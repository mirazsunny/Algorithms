{
 "cells": [
  {
   "cell_type": "markdown",
   "metadata": {},
   "source": [
    "# LeetCode Question\n",
    "[28.Implement strStr()](https://leetcode.com/problems/implement-strstr/)\n",
    "* Procedure follow from *Data Structure and Algorithm in python Book by  Goodrich, Tamassia, Goldwasser* [Chapter13.2:Pattern Matching Algorithm]"
   ]
  },
  {
   "cell_type": "markdown",
   "metadata": {},
   "source": [
    "## RoadMap:\n",
    "Consider *T is text and P* is pattern matching\n",
    "1. Comparison will start from the end of the *P*\n",
    "2. Now comparison:\n",
    "    1. If comparison holds i.e. equals *P* and *T* will move backwards\n",
    "    2. If comparison does not hold i.e. not equals there could be three condition\n",
    "        1. If corresponding *T element is in the left side move P* upto that element so that it can match\n",
    "        2. If corresponding *T element is in the right side move P* upto one position\n",
    "        3. If corresponding *T element is not in P* move the whole pattern"
   ]
  },
  {
   "cell_type": "code",
   "execution_count": 4,
   "metadata": {},
   "outputs": [],
   "source": [
    "def boyer_moore(T,P):\n",
    "    n,m=len(T),len(P)\n",
    "    if m==0: # If empty string return 0\n",
    "        return 0 \n",
    "    last={} # dictionary to keep track of the last occurance\n",
    "    for k in range(m):\n",
    "        last[P[k]]=k\n",
    "    # align the pattern \n",
    "    i=m-1\n",
    "    k=m-1\n",
    "    while i<n:\n",
    "        if T[i]==P[k]: # if a matched occur\n",
    "            if k==0: \n",
    "                return i # when whole patten matched\n",
    "            else:\n",
    "                # Move backwark\n",
    "                i-=1 \n",
    "                k-=1\n",
    "        else:\n",
    "            j=last.get(T[i],-1) # when last matched occur else -1\n",
    "            i+=m-min(k,j+1) # The three conditions in one line\n",
    "            k=m-1 #new pattern matching start\n",
    "    return -1"
   ]
  },
  {
   "cell_type": "code",
   "execution_count": 5,
   "metadata": {},
   "outputs": [
    {
     "data": {
      "text/plain": [
       "2"
      ]
     },
     "execution_count": 5,
     "metadata": {},
     "output_type": "execute_result"
    }
   ],
   "source": [
    "boyer_moore('hello','ll')"
   ]
  },
  {
   "cell_type": "code",
   "execution_count": null,
   "metadata": {},
   "outputs": [],
   "source": []
  }
 ],
 "metadata": {
  "kernelspec": {
   "display_name": "Python 3",
   "language": "python",
   "name": "python3"
  },
  "language_info": {
   "codemirror_mode": {
    "name": "ipython",
    "version": 3
   },
   "file_extension": ".py",
   "mimetype": "text/x-python",
   "name": "python",
   "nbconvert_exporter": "python",
   "pygments_lexer": "ipython3",
   "version": "3.7.3"
  }
 },
 "nbformat": 4,
 "nbformat_minor": 2
}
